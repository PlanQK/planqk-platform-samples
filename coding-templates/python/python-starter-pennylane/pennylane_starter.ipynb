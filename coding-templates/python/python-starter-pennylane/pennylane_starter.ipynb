{
 "cells": [
  {
   "cell_type": "code",
   "execution_count": 37,
   "id": "096a0061-0c33-4a42-9209-7b7f7e01e1a6",
   "metadata": {},
   "outputs": [
    {
     "name": "stdout",
     "output_type": "stream",
     "text": [
      "Cost after step     5: -0.527640\n",
      "Cost after step    10: -0.980626\n",
      "Cost after step    15: -0.999445\n",
      "Cost after step    20: -0.999984\n",
      "Cost after step    25: -1.000000\n",
      "Cost after step    30: -1.000000\n",
      "Cost after step    35: -1.000000\n",
      "Cost after step    40: -1.000000\n",
      "Cost after step    45: -1.000000\n",
      "Cost after step    50: -1.000000\n",
      "Cost after step    55: -1.000000\n",
      "Cost after step    60: -1.000000\n",
      "Cost after step    65: -1.000000\n",
      "Cost after step    70: -1.000000\n",
      "Cost after step    75: -1.000000\n",
      "Cost after step    80: -1.000000\n",
      "Cost after step    85: -1.000000\n",
      "Cost after step    90: -1.000000\n",
      "Cost after step    95: -1.000000\n",
      "Cost after step   100: -1.000000\n",
      "[0.         3.14159265]\n"
     ]
    }
   ],
   "source": [
    "import pennylane as qml\n",
    "from pennylane import numpy as np\n",
    "\n",
    "dev = qml.device(name=\"default.qubit\", wires=1)\n",
    "\n",
    "@qml.qnode(dev)\n",
    "def circuit(params):\n",
    "    qml.RX(params[0],wires = 0)\n",
    "    qml.RY(params[1],wires = 0)\n",
    "    return qml.expval(qml.PauliZ(0))\n",
    "\n",
    "circuit([0,0])\n",
    "\n",
    "opt = qml.GradientDescentOptimizer(stepsize=0.3)\n",
    "max_iter = 100\n",
    "# opt = qml.SPSAOptimizer(maxiter=max_iter, c=0.15, a=0.2)\n",
    "\n",
    "angles = np.array([0, 1], requires_grad=True)\n",
    "\n",
    "for iter_idx in range(max_iter):\n",
    "    angles = opt.step(circuit, angles)\n",
    "    if (iter_idx+1) % 5 == 0:\n",
    "        print(f\"Cost after step {iter_idx+1:5d}: {circuit(angles):5f}\")\n",
    "\n",
    "print(angles)"
   ]
  },
  {
   "cell_type": "code",
   "execution_count": 24,
   "id": "929f6d1f-e66b-40e9-8df6-cb2611af80fc",
   "metadata": {},
   "outputs": [],
   "source": [
    "result = circuit(angles)\n",
    "# Convert to QASM (str)\n",
    "t = circuit.qtape.to_openqasm()"
   ]
  },
  {
   "cell_type": "code",
   "execution_count": 26,
   "id": "0fb4c329-cddc-4e01-98a8-7b41d2139342",
   "metadata": {},
   "outputs": [
    {
     "name": "stdout",
     "output_type": "stream",
     "text": [
      "OPENQASM 2.0;\n",
      "include \"qelib1.inc\";\n",
      "qreg q[1];\n",
      "creg c[1];\n",
      "rx(1.570796326794889) q[0];\n",
      "ry(1.570796326794889) q[0];\n",
      "measure q[0] -> c[0];\n",
      "\n"
     ]
    }
   ],
   "source": [
    "print(t)"
   ]
  },
  {
   "cell_type": "code",
   "execution_count": null,
   "id": "a3ccbc88-3281-4cdf-ad7f-25c1746a796f",
   "metadata": {},
   "outputs": [],
   "source": [
    "qml.qfunc_transform("
   ]
  }
 ],
 "metadata": {
  "kernelspec": {
   "display_name": "pennylane",
   "language": "python",
   "name": "pennylane"
  },
  "language_info": {
   "codemirror_mode": {
    "name": "ipython",
    "version": 3
   },
   "file_extension": ".py",
   "mimetype": "text/x-python",
   "name": "python",
   "nbconvert_exporter": "python",
   "pygments_lexer": "ipython3",
   "version": "3.9.16"
  }
 },
 "nbformat": 4,
 "nbformat_minor": 5
}
