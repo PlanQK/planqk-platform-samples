{
 "cells": [
  {
   "cell_type": "markdown",
   "metadata": {},
   "source": [
    "# Getting Started with PlanQK 🚀\n",
    "\n",
    "There are several ways to get started with PlanQK.\n",
    "You probably used the PlanQK CLI to bootstrap this \"PlanQK Dev Container\" project ... and that's a great way!\n",
    "\n",
    "This Jupyter Notebook shows you the fastest way to run quantum applications using PlanQK.\n",
    "Just follow the steps below and you will be able to run your first quantum application in no time.\n"
   ]
  },
  {
   "cell_type": "markdown",
   "metadata": {},
   "source": [
    "## Preparation\n",
    "\n",
    "First of all, you require a PlanQK account.\n",
    "If not already done, please register at <https://platform.planqk.de>.\n",
    "\n",
    "Further, we highly recommend to install the [PlanQK CLI](https://docs.platform.planqk.de/cli-reference.html#installation).\n",
    "\n",
    "> **Note:** If you are using the PlanQK Dev Container, the PlanQK CLI is already installed.\n",
    "> However, we recommend to install the CLI on your local machine as well, since the PlanQK Dev Container is able to use the authentication information from your local machine.\n",
    "\n",
    "Afterwards, you require an access token, either to log-in with PlanQK CLI or to directly run quantum applications with this Jupyter Notebook.\n",
    "You can create one in your [user settings](https://platform.planqk.de/settings).\n",
    "\n",
    "> **Important:** You need to create an access token with `api` and `quantum_tokens` scopes.\n",
    "\n",
    "Please copy the access token to your clipboard, since you will need it in the next steps.\n"
   ]
  },
  {
   "cell_type": "markdown",
   "metadata": {},
   "source": [
    "## Run your first Quantum Application\n"
   ]
  },
  {
   "cell_type": "markdown",
   "metadata": {},
   "source": [
    "Import the `PlanqkQuantumProvider` class from the `planqk.qiskit` package.\n"
   ]
  },
  {
   "cell_type": "code",
   "execution_count": null,
   "metadata": {},
   "outputs": [],
   "source": [
    "from planqk.qiskit import PlanqkQuantumProvider"
   ]
  },
  {
   "cell_type": "markdown",
   "metadata": {},
   "source": [
    "The `PlanqkQuantumProvider` lets you access all of PlanQK's QPU-based backends using the Qiskit SDK.\n",
    "\n",
    "Once imported, you can create a new instance of the `PlanqkQuantumProvider` class.\n"
   ]
  },
  {
   "cell_type": "code",
   "execution_count": null,
   "metadata": {},
   "outputs": [],
   "source": [
    "provider = PlanqkQuantumProvider(access_token=\"your personal access token\")"
   ]
  },
  {
   "cell_type": "markdown",
   "metadata": {},
   "source": [
    "However, the recommended way is to [log-in](https://docs.platform.planqk.de/cli-reference.html#authentication) with the PlanQK CLI.\n",
    "Then you can use the `PlanqkQuantumProvider` without any further configuration.\n"
   ]
  },
  {
   "cell_type": "code",
   "execution_count": null,
   "metadata": {},
   "outputs": [],
   "source": [
    "provider = PlanqkQuantumProvider()"
   ]
  },
  {
   "cell_type": "markdown",
   "metadata": {},
   "source": [
    "You can now select one of the available backends.\n",
    "The complete list of available backends is available at <https://platform.planqk.de/quantum-backends>.\n",
    "\n",
    "For this example, we will use the `azure.ionq.simulator` backend, which is free of charge.\n",
    "If you want to try a different backend, use the filter option `Pay-per-use` access to select a suitable backend to run the example below.\n",
    "\n",
    "> **Note:** Please checkout the [pricing page](https://platform.planqk.de/pricing) before selecting one of our supported backends.\n"
   ]
  },
  {
   "cell_type": "code",
   "execution_count": 3,
   "metadata": {},
   "outputs": [],
   "source": [
    "backend_id = \"azure.ionq.simulator\"\n",
    "backend = provider.get_backend(name=backend_id)"
   ]
  },
  {
   "cell_type": "markdown",
   "metadata": {},
   "source": [
    "You can now create a new quantum circuit using the Qiskit SDK.\n",
    "For the sake of simplicity, we will create a simple Bell state.\n"
   ]
  },
  {
   "cell_type": "code",
   "execution_count": null,
   "metadata": {},
   "outputs": [],
   "source": [
    "from qiskit import QuantumCircuit, transpile\n",
    "\n",
    "circuit = QuantumCircuit(2, 2)\n",
    "circuit.h(0)\n",
    "circuit.cx(0, 1)\n",
    "\n",
    "circuit.measure(range(2), range(2))\n",
    "\n",
    "circuit = transpile(circuit, backend)"
   ]
  },
  {
   "cell_type": "markdown",
   "metadata": {},
   "source": [
    "Execute the circuit on the selected backend."
   ]
  },
  {
   "cell_type": "code",
   "execution_count": null,
   "metadata": {},
   "outputs": [],
   "source": [
    "job = backend.run(circuit, shots=1000)"
   ]
  },
  {
   "cell_type": "markdown",
   "metadata": {},
   "source": [
    "Wait for the results to be available.\n",
    "You may use the `get_counts` method to retrieve the `counts` dictionary."
   ]
  },
  {
   "cell_type": "code",
   "execution_count": null,
   "metadata": {},
   "outputs": [],
   "source": [
    "result = job.result()\n",
    "counts = result.get_counts()\n",
    "\n",
    "print(counts)\n"
   ]
  },
  {
   "cell_type": "markdown",
   "metadata": {},
   "source": [
    "From here, you can process the results as you like."
   ]
  }
 ],
 "metadata": {
  "kernelspec": {
   "display_name": "Python 3",
   "language": "python",
   "name": "python3"
  },
  "language_info": {
   "codemirror_mode": {
    "name": "ipython",
    "version": 3
   },
   "file_extension": ".py",
   "mimetype": "text/x-python",
   "name": "python",
   "nbconvert_exporter": "python",
   "pygments_lexer": "ipython3",
   "version": "3.9.18"
  }
 },
 "nbformat": 4,
 "nbformat_minor": 2
}
