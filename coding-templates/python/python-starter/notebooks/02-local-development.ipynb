{
 "cells": [
  {
   "cell_type": "markdown",
   "id": "4eb4dd07-3f32-478b-93c0-409163de2e2d",
   "metadata": {},
   "source": [
    "# Utilize the PlanQK Service SDK for local development using PlanQK CLI\n",
    "\n",
    "This tutorial outlines how to manage service executions using both the PlanQK Service SDK and PlanQK CLI.\n",
    "\n",
    "\n",
    "## Using PlanQK CLI\n",
    "\n",
    "Begin by navigating to the directory where your project, containing the service, is located.\n",
    "\n",
    "```bash\n",
    "cd my-project\n",
    "```\n",
    "\n",
    "Next, run the following command:\n",
    "\n",
    "```bash\n",
    "planqk serve\n",
    "```\n",
    "\n",
    "Once the server is up and running, you can utilize http://localhost:8081/ as the URL to manage the service executions. For additional details regarding the `planqk serve` functionality, please refer to the documentation available [here](https://docs.platform.planqk.de/cli-reference.html#planqk-serve).\n",
    "\n",
    "## Getting Started with PlanQK Service SDK\n",
    "\n",
    "Begin by installing the PlanQK Service SDK using pip.\n",
    "\n",
    "```bash\n",
    "pip install --upgrade planqk-service-sdk\n",
    "```\n",
    "Replace the placeholders your_consumer_key and your_secret_key in the code snippet below with the credentials provided in one of your platform applications. Additionally, configure the service_endpoint to the URL where planqk sere operates. In the example below, the server is operating on the default URL.\n",
    "\n"
   ]
  },
  {
   "cell_type": "code",
   "execution_count": 17,
   "id": "75ce609e-d1db-425a-b847-2d65dbe737b8",
   "metadata": {},
   "outputs": [
    {
     "name": "stdout",
     "output_type": "stream",
     "text": [
      "Job ID: bbc083a4-3a3c-4e88-9a02-75afecfb10bd\n",
      "Execution status: JobStatus.SUCCEEDED\n",
      "Execution result: {'result': {'random_number': 0}, 'metadata': {'execution_time': 0.005}}\n"
     ]
    }
   ],
   "source": [
    "from planqk.service.client import PlanqkServiceClient\n",
    "\n",
    "# Your consumer key and secret\n",
    "consumer_key = \"your_consumer_key\"\n",
    "consumer_secret = \"your_secret_key\"\n",
    "\n",
    "# Service endpoint\n",
    "service_endpoint = \"http://localhost:8081/\"\n",
    "\n",
    "# Initialize the client\n",
    "client = PlanqkServiceClient(service_endpoint, consumer_key, consumer_secret)\n",
    "\n",
    "# Prepare input data and parameters\n",
    "\n",
    "data = {\"dataValue\" : [\"abc\", \"dce\"]}\n",
    "params = {\"paramsValue\" : [\"abc\", \"dce\"]}\n",
    "\n",
    "# start execution\n",
    "job = client.start_execution(data=data, params=params)\n",
    "print(f\"Job ID: {job.id}\")\n",
    "\n",
    "# get execution status\n",
    "job = client.get_status(job.id)\n",
    "print(f\"Execution status: {job.status}\")\n",
    "\n",
    "# get execution result\n",
    "result = client.get_result(job.id)\n",
    "print(f\"Execution result: {result}\")\n"
   ]
  }
 ],
 "metadata": {
  "kernelspec": {
   "display_name": "Python 3 (ipykernel)",
   "language": "python",
   "name": "python3"
  },
  "language_info": {
   "codemirror_mode": {
    "name": "ipython",
    "version": 3
   },
   "file_extension": ".py",
   "mimetype": "text/x-python",
   "name": "python",
   "nbconvert_exporter": "python",
   "pygments_lexer": "ipython3",
   "version": "3.11.7"
  }
 },
 "nbformat": 4,
 "nbformat_minor": 5
}
