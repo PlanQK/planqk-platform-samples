{
 "cells": [
  {
   "cell_type": "markdown",
   "metadata": {},
   "source": [
    "# Getting Started with PlanQK 🚀\n",
    "\n",
    "There are several ways to get started with PlanQK.\n",
    "You probably used the PlanQK CLI to bootstrap this \"PlanQK Dev Container\" project ... and that's a great way!\n",
    "\n",
    "This Jupyter Notebook shows you the fastest way to run quantum applications using PlanQK.\n",
    "Just follow the steps below and you will be able to run your first quantum application in no time.\n"
   ]
  },
  {
   "cell_type": "markdown",
   "metadata": {},
   "source": [
    "## Preparation\n",
    "\n",
    "First of all, you require a PlanQK account.\n",
    "If not already done, please register at [https://platform.planqk.de](https://platform.planqk.de).\n",
    "\n",
    "Further, we highly recommend to install the [PlanQK CLI](https://docs.platform.planqk.de/cli-reference.html#installation).\n",
    "\n",
    "> **Note:** If you are using the PlanQK Dev Container, the PlanQK CLI is already installed.\n",
    "> However, we recommend to install the CLI on your local machine as well, since the PlanQK Dev Container is able to use the authentication information from your local machine.\n",
    "\n",
    "Afterwards, you require an access token, either to log-in with PlanQK CLI or to directly run quantum applications with this Jupyter Notebook.\n"
   ]
  },
  {
   "cell_type": "code",
   "execution_count": 4,
   "metadata": {},
   "outputs": [],
   "source": [
    "from planqk.qiskit import PlanqkQuantumProvider\n",
    "\n",
    "# Use next line if you are using the PlanQK CLI and have logged-in with \"planqk login\"\n",
    "provider = PlanqkQuantumProvider()\n",
    "\n",
    "# Otherwise, use the following line and add your personal access token\n",
    "# provider = PlanqkQuantumProvider(access_token=\"your personal access token\")"
   ]
  },
  {
   "cell_type": "markdown",
   "metadata": {},
   "source": [
    "## Authentication\n",
    "\n",
    "To use the SDK, you need to authenticate using an access token with at least the quantum-tokens scope. The token can be generated here (opens new window). This token can be set in two ways:\n",
    "\n",
    "Automatically, by logging in through the PlanQK CLI. The command to login via CLI is planqk login -t <your_access_token>. This method will automatically inject the access token when you instantiate the PlanqkQuantumProvider class.\n",
    "\n",
    "Explicitly, during instantiation of the PlanqkQuantumProvider class as shown in the example below. This method overrides any access token that has been automatically injected through the PlanQK CLI login.\n"
   ]
  },
  {
   "cell_type": "code",
   "execution_count": 3,
   "metadata": {},
   "outputs": [],
   "source": [
    "# Select a suitable backend\n",
    "# There are even more\n",
    "backend_name = \"azure.ionq.simulator\"\n",
    "backend = provider.get_backend(name=backend_name)"
   ]
  },
  {
   "cell_type": "code",
   "execution_count": null,
   "metadata": {},
   "outputs": [],
   "source": []
  }
 ],
 "metadata": {
  "kernelspec": {
   "display_name": "Python 3",
   "language": "python",
   "name": "python3"
  },
  "language_info": {
   "codemirror_mode": {
    "name": "ipython",
    "version": 3
   },
   "file_extension": ".py",
   "mimetype": "text/x-python",
   "name": "python",
   "nbconvert_exporter": "python",
   "pygments_lexer": "ipython3",
   "version": "3.9.18"
  }
 },
 "nbformat": 4,
 "nbformat_minor": 2
}
